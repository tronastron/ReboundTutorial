{
 "cells": [
  {
   "cell_type": "markdown",
   "metadata": {},
   "source": [
    "# This is Tron's tutorial for the Rebound simulation. The purpose for each short exercise is to teach himself some basic things in Rebound.\n",
    "\n",
    "# This one is about Rebound particle and index. It also\n",
    "\n",
    "#   "
   ]
  },
  {
   "cell_type": "markdown",
   "metadata": {},
   "source": [
    "**The first thing is to import packages.**"
   ]
  },
  {
   "cell_type": "code",
   "execution_count": 3,
   "metadata": {},
   "outputs": [],
   "source": [
    "#     install all packages\n",
    "import rebound  # import external modules/libraries to the project.\n",
    "from matplotlib import pyplot as plt  # 2 ways to import matplotlib pyplot as plt\n",
    "\n",
    "# also rebound has some functions using matplotlib to draw plots.\n",
    "import time\n",
    "\n",
    "#         to record the time function\n",
    "import numpy as np\n",
    "\n",
    "import datetime \n",
    "\n",
    "import astropy\n",
    "\n",
    "# rerecord the day time"
   ]
  },
  {
   "cell_type": "code",
   "execution_count": null,
   "metadata": {},
   "outputs": [],
   "source": []
  },
  {
   "cell_type": "markdown",
   "metadata": {},
   "source": []
  },
  {
   "cell_type": "code",
   "execution_count": 3,
   "metadata": {},
   "outputs": [
    {
     "name": "stdout",
     "output_type": "stream",
     "text": [
      "Searching NASA Horizons for 'Sun'... \n",
      "Found: Sun (10) \n",
      "Searching NASA Horizons for 'Jupiter'... \n",
      "Found: Jupiter Barycenter (5) (chosen from query 'Jupiter')\n",
      "Searching NASA Horizons for 'Saturn'... \n",
      "Found: Saturn Barycenter (6) (chosen from query 'Saturn')\n",
      "c_uint(3000342645)\n",
      "c_uint(1824174660)\n"
     ]
    }
   ],
   "source": [
    "# Press Double ⇧ to search everywhere for classes, files, tool windows, actions, and settings.\n",
    "start_time = time.time()\n",
    "#  to record the starting time\n",
    "sim = rebound.Simulation()  # This line creates a new simulation object called 'sim'.\n",
    "sim.add(\"Sun\", hash=\"Sun\")  # This line adds the Sun to the simulation.\n",
    "sim.add(\"Jupiter\")  #  Adds the Jupiter\n",
    "sim.add(\"Saturn\")  # Adds the Saturn\n",
    "\n",
    "sim.add(a=1.0, hash=\"planet1\")\n",
    "\n",
    "\n",
    "print(sim.particles[0].hash)  # I tried to print Hash Value\n",
    "print(sim.particles[3].hash)"
   ]
  },
  {
   "cell_type": "markdown",
   "metadata": {},
   "source": [
    "**Then we plan to print all mass of the particles, by using for loop**"
   ]
  },
  {
   "cell_type": "code",
   "execution_count": 10,
   "metadata": {},
   "outputs": [
    {
     "name": "stdout",
     "output_type": "stream",
     "text": [
      "The mass of c_uint(3000342645) 0.9999999999950272\n",
      "The mass of c_uint(0) 0.0009547919099366768\n",
      "The mass of c_uint(0) 0.0002858856700231729\n"
     ]
    }
   ],
   "source": [
    "for particle in sim.particles:\n",
    "    print(\"The mass of\", particle.hash, particle.m)"
   ]
  },
  {
   "cell_type": "markdown",
   "metadata": {},
   "source": []
  }
 ],
 "metadata": {
  "kernelspec": {
   "display_name": "eva",
   "language": "python",
   "name": "python3"
  },
  "language_info": {
   "codemirror_mode": {
    "name": "ipython",
    "version": 3
   },
   "file_extension": ".py",
   "mimetype": "text/x-python",
   "name": "python",
   "nbconvert_exporter": "python",
   "pygments_lexer": "ipython3",
   "version": "3.10.13"
  },
  "orig_nbformat": 4
 },
 "nbformat": 4,
 "nbformat_minor": 2
}
