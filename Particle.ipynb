{
 "cells": [
  {
   "cell_type": "markdown",
   "metadata": {},
   "source": []
  },
  {
   "cell_type": "markdown",
   "metadata": {},
   "source": [
    "**This is Tron's tutorial for the Rebound simulation. The purpose for each short exercise is to teach himself some basic things in Rebound.**\n",
    "\n",
    "**This one is about Rebound particle and index.**"
   ]
  },
  {
   "cell_type": "markdown",
   "metadata": {},
   "source": [
    "**The first thing is to import packages.**"
   ]
  },
  {
   "cell_type": "code",
   "execution_count": 9,
   "metadata": {},
   "outputs": [],
   "source": [
    "# install all packages\n",
    "import rebound  # import external modules/libraries to the project.\n",
    "from matplotlib import pyplot as plt  # 2 ways to import matplotlib pyplot as plt\n",
    "\n",
    "# also rebound has some functions using matplotlib to draw plots.\n",
    "import time\n",
    "#  to record the time function\n",
    "import numpy as np\n",
    "\n",
    "import datetime \n",
    "\n",
    "import astropy\n"
   ]
  },
  {
   "cell_type": "code",
   "execution_count": 10,
   "metadata": {},
   "outputs": [
    {
     "name": "stdout",
     "output_type": "stream",
     "text": [
      "Searching NASA Horizons for 'Sun'... \n",
      "Found: Sun (10) \n",
      "Searching NASA Horizons for 'Jupiter'... \n",
      "Found: Jupiter Barycenter (5) (chosen from query 'Jupiter')\n",
      "Searching NASA Horizons for 'Saturn'... \n",
      "Found: Saturn Barycenter (6) (chosen from query 'Saturn')\n"
     ]
    }
   ],
   "source": [
    "# Press Double ⇧ to search everywhere for classes, files, tool windows, actions, and settings.\n",
    "start_time = time.time()\n",
    "#  to record the starting time\n",
    "sim = rebound.Simulation()  # This line creates a new simulation object called 'sim'.\n",
    "sim.add(\"Sun\", hash = 'Sun') # This line adds the Sun to the simulation.\n",
    "sim.add(\"Jupiter\")  # Adds the Jupiter\n",
    "sim.add(\"Saturn\")  # Adds the Saturn"
   ]
  },
  {
   "cell_type": "markdown",
   "metadata": {},
   "source": []
  },
  {
   "cell_type": "code",
   "execution_count": 11,
   "metadata": {},
   "outputs": [
    {
     "name": "stdout",
     "output_type": "stream",
     "text": [
      "Searching NASA Horizons for 'Sun'... \n",
      "Found: Sun (10) \n",
      "Searching NASA Horizons for 'Jupiter'... \n",
      "Found: Jupiter Barycenter (5) (chosen from query 'Jupiter')\n",
      "Searching NASA Horizons for 'Saturn'... \n",
      "Found: Saturn Barycenter (6) (chosen from query 'Saturn')\n",
      "c_uint(3000342645)\n",
      "c_uint(1824174660)\n"
     ]
    }
   ],
   "source": [
    "# Press Double ⇧ to search everywhere for classes, files, tool windows, actions, and settings.\n",
    "#  to record the starting time\n",
    "start_time = time.time()\n",
    "\n",
    "sim = rebound.Simulation()  # This line creates a new simulation object called 'sim'.\n",
    "sim.add(\"Sun\", hash=\"Sun\")  # This line adds the Sun to the simulation.\n",
    "sim.add(\"Jupiter\")  #  Adds the Jupiter\n",
    "sim.add(\"Saturn\")  # Adds the Saturn\n",
    "\n",
    "sim.add(a=1.0, hash=\"planet1\")\n",
    "\n",
    "\n",
    "print(sim.particles[0].hash)  # I tried to print Hash Value\n",
    "print(sim.particles[3].hash)"
   ]
  },
  {
   "cell_type": "markdown",
   "metadata": {},
   "source": [
    "**Then we plan to print all mass of the particles, by using for loop**\n",
    "\n",
    "( For loop with 2 indexes)"
   ]
  },
  {
   "cell_type": "code",
   "execution_count": 18,
   "metadata": {},
   "outputs": [
    {
     "name": "stdout",
     "output_type": "stream",
     "text": [
      " For particle with index 0, the corresponding mass = 0.9999999999950272\n",
      " For particle with index 1, the corresponding mass = 0.0009547919099366768\n",
      " For particle with index 2, the corresponding mass = 0.0002858856700231729\n",
      " For particle with index 3, the corresponding mass = 0.0\n"
     ]
    }
   ],
   "source": [
    "for i, particle in enumerate(sim.particles):\n",
    "    print(f\" For particle with index {i}, the corresponding mass = {particle.m}\")  \n",
    "\n",
    "# It lists all masses in the particles array. \n",
    "\n"
   ]
  },
  {
   "cell_type": "markdown",
   "metadata": {},
   "source": [
    "We can also print all other parameters of particles, such as radius (r), positions (x, y, z,) and speed ( vx, vy, vz ):\n"
   ]
  },
  {
   "cell_type": "code",
   "execution_count": 20,
   "metadata": {},
   "outputs": [
    {
     "name": "stdout",
     "output_type": "stream",
     "text": [
      " For particle with index 0, the corresponding radius = 0.0\n",
      " For particle with index 1, the corresponding radius = 0.0\n",
      " For particle with index 2, the corresponding radius = 0.0\n",
      " For particle with index 3, the corresponding radius = 0.0\n",
      "Now we jump into position x\n",
      " For particle with index 0, the corresponding x position = -0.008345239157326\n",
      " For particle with index 1, the corresponding x position = 3.911723852763119\n",
      " For particle with index 2, the corresponding x position = 8.8259509171723\n",
      " For particle with index 3, the corresponding x position = 0.9979154422867961\n"
     ]
    }
   ],
   "source": [
    "for i, particle in enumerate(sim.particles):\n",
    "    print(f\" For particle with index {i}, the corresponding radius = {particle.r}\")  \n",
    "\n",
    "# It lists all masses in the particles radius. \n",
    "\n",
    "print('Now we jump into position x')\n",
    "\n",
    "for i, particle in enumerate(sim.particles):\n",
    "    print(f\" For particle with index {i}, the corresponding x position = {particle.x}\")  \n",
    "\n"
   ]
  },
  {
   "cell_type": "markdown",
   "metadata": {},
   "source": [
    "Test of auto save markdown"
   ]
  },
  {
   "cell_type": "code",
   "execution_count": 21,
   "metadata": {},
   "outputs": [
    {
     "ename": "NameError",
     "evalue": "name 'www' is not defined",
     "output_type": "error",
     "traceback": [
      "\u001b[0;31m---------------------------------------------------------------------------\u001b[0m",
      "\u001b[0;31mNameError\u001b[0m                                 Traceback (most recent call last)",
      "\u001b[1;32m/Users/tron/Documents/XJTLU/Github/rebound-tutorial/Particle.ipynb Cell 13\u001b[0m line \u001b[0;36m1\n\u001b[0;32m----> <a href='vscode-notebook-cell:/Users/tron/Documents/XJTLU/Github/rebound-tutorial/Particle.ipynb#X14sZmlsZQ%3D%3D?line=0'>1</a>\u001b[0m www\n",
      "\u001b[0;31mNameError\u001b[0m: name 'www' is not defined"
     ]
    }
   ],
   "source": []
  },
  {
   "cell_type": "code",
   "execution_count": null,
   "metadata": {},
   "outputs": [],
   "source": []
  }
 ],
 "metadata": {
  "kernelspec": {
   "display_name": "eva",
   "language": "python",
   "name": "python3"
  },
  "language_info": {
   "codemirror_mode": {
    "name": "ipython",
    "version": 3
   },
   "file_extension": ".py",
   "mimetype": "text/x-python",
   "name": "python",
   "nbconvert_exporter": "python",
   "pygments_lexer": "ipython3",
   "version": "3.10.13"
  },
  "orig_nbformat": 4
 },
 "nbformat": 4,
 "nbformat_minor": 2
}
