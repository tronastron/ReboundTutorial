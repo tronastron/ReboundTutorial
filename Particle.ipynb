{
 "cells": [
  {
   "cell_type": "code",
   "execution_count": 2,
   "metadata": {},
   "outputs": [],
   "source": [
    "# This is Tron's tutorial for the Rebound simulation. The purpose for each short exercise is to teach himself some basic things in Rebound.\n",
    "\n",
    "# This one is about Rebound particle and index\n",
    "\n",
    "# Test"
   ]
  },
  {
   "cell_type": "code",
   "execution_count": null,
   "metadata": {},
   "outputs": [],
   "source": [
    "# install all packages \n",
    "\n",
    "import rebound  # import external modules/libraries to the project.\n",
    "from matplotlib import pyplot as plt  # 2 ways to import matplotlib pyplot as plt\n",
    "# also rebound has some functions using matplotlib to draw plots.\n",
    "import time\n",
    "#  to record the time function\n",
    "import numpy as np\n",
    "\n",
    "import datetime\n",
    "# rerecord the day time "
   ]
  },
  {
   "cell_type": "code",
   "execution_count": null,
   "metadata": {},
   "outputs": [],
   "source": []
  },
  {
   "cell_type": "code",
   "execution_count": null,
   "metadata": {},
   "outputs": [],
   "source": []
  }
 ],
 "metadata": {
  "kernelspec": {
   "display_name": "eva",
   "language": "python",
   "name": "python3"
  },
  "language_info": {
   "codemirror_mode": {
    "name": "ipython",
    "version": 3
   },
   "file_extension": ".py",
   "mimetype": "text/x-python",
   "name": "python",
   "nbconvert_exporter": "python",
   "pygments_lexer": "ipython3",
   "version": "3.10.13"
  },
  "orig_nbformat": 4
 },
 "nbformat": 4,
 "nbformat_minor": 2
}
